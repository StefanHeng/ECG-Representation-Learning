{
 "cells": [
  {
   "cell_type": "markdown",
   "source": [
    "# Explore ECG dataset\n",
    "Stefan/Yuzhao Heng\n",
    "Since Sun. Oct. 31st, 2021\n",
    "\n",
    "\n",
    "Check out data format of publicly available datasets & determine which to use.\n",
    "\n",
    "e.g. If they contain 12-lead recordings, is each beat labeled\n",
    "\n",
    "\n",
    "## Setup\n",
    "\n"
   ],
   "metadata": {
    "collapsed": false
   }
  },
  {
   "cell_type": "code",
   "execution_count": 1,
   "metadata": {
    "collapsed": true
   },
   "outputs": [],
   "source": [
    "import os\n",
    "\n",
    "from icecream import ic\n",
    "from util import *\n",
    "\n",
    "\n",
    "os.chdir('../../datasets')\n",
    "!ls"
   ]
  },
  {
   "cell_type": "markdown",
   "source": [
    "## MIT-BIH Malignant Ventricular Ectopy Database\n",
    "\n"
   ],
   "metadata": {
    "collapsed": false
   }
  },
  {
   "cell_type": "markdown",
   "source": [],
   "metadata": {
    "collapsed": false
   }
  },
  {
   "cell_type": "code",
   "execution_count": 4,
   "outputs": [
    {
     "name": "stderr",
     "output_type": "stream",
     "text": [
      "ic| dnm: 'MIT-BIH-MVED'\n"
     ]
    },
    {
     "data": {
      "text/plain": "'MIT-BIH-MVED'"
     },
     "execution_count": 4,
     "metadata": {},
     "output_type": "execute_result"
    }
   ],
   "source": [
    "dsets = list(config('datasets').keys())\n",
    "ic(dsets)\n",
    "\n"
   ],
   "metadata": {
    "collapsed": false,
    "pycharm": {
     "name": "#%%\n"
    }
   }
  }
 ],
 "metadata": {
  "kernelspec": {
   "display_name": "Python 3",
   "language": "python",
   "name": "python3"
  },
  "language_info": {
   "codemirror_mode": {
    "name": "ipython",
    "version": 2
   },
   "file_extension": ".py",
   "mimetype": "text/x-python",
   "name": "python",
   "nbconvert_exporter": "python",
   "pygments_lexer": "ipython2",
   "version": "2.7.6"
  }
 },
 "nbformat": 4,
 "nbformat_minor": 0
}