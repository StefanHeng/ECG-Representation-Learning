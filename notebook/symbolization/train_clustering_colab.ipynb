{
 "cells": [
  {
   "cell_type": "markdown",
   "source": [
    "# Train clustering\n",
    "Stefan/Yuzhao Heng\n",
    "Since Thur. Jan. 27th, 2022\n",
    "\n",
    "\n",
    "Train clustering with a larger data size and check the results, leveraging colab GPU and [cuML](https://github.com/rapidsai/cuml).\n",
    "\n",
    "\n",
    "## Setup\n",
    "\n"
   ],
   "metadata": {
    "collapsed": false
   }
  },
  {
   "cell_type": "code",
   "execution_count": null,
   "metadata": {
    "collapsed": true
   },
   "outputs": [],
   "source": [
    "%load_ext autoreload\n",
    "%autoreload 2\n",
    "\n",
    "import sys\n",
    "\n",
    "from util import *\n",
    "from model import Loader, Tokenizer\n",
    "\n",
    "\n",
    "rcParams['figure.dpi'] = 200\n",
    "rcParams['font.size'] = 6\n",
    "\n",
    "seed = config('random_seed')\n",
    "\n",
    "el = Loader('CHAP_SHAO')\n",
    "et = Tokenizer(k=8)\n",
    "\n"
   ]
  },
  {
   "cell_type": "markdown",
   "source": [
    "## K-means\n"
   ],
   "metadata": {
    "collapsed": false
   }
  },
  {
   "cell_type": "code",
   "execution_count": null,
   "outputs": [],
   "source": [
    "if 'google.colab' in sys.modules:\n",
    "    from cuml.cluster import KMeans\n",
    "\n",
    "    import cudf\n",
    "    import numpy as np\n",
    "    import pandas as pd\n",
    "\n",
    "    def np2cudf(df):\n",
    "        # convert numpy array to cuDF dataframe\n",
    "        df = pd.DataFrame({'fea%d'%i:df[:,i] for i in range(df.shape[1])})\n",
    "        pdf = cudf.DataFrame()\n",
    "        for c,column in enumerate(df):\n",
    "          pdf[str(c)] = df[column]\n",
    "        return pdf\n",
    "\n",
    "    a = np.asarray([[1.0, 1.0], [1.0, 2.0], [3.0, 2.0], [4.0, 3.0]],\n",
    "                   dtype=np.float32)\n",
    "    b = np2cudf(a)\n",
    "    print(\"input:\")\n",
    "    print(b)\n",
    "\n",
    "    print(\"Calling fit\")\n",
    "    kmeans_float = KMeans(n_clusters=2)\n",
    "    kmeans_float.fit(b)\n",
    "\n",
    "    print(\"labels:\")\n",
    "    print(kmeans_float.labels_)\n",
    "    print(\"cluster_centers:\")\n",
    "    print(kmeans_float.cluster_centers_)\n",
    "\n",
    "\n"
   ],
   "metadata": {
    "collapsed": false,
    "pycharm": {
     "name": "#%%\n"
    }
   }
  }
 ],
 "metadata": {
  "kernelspec": {
   "display_name": "Python 3",
   "language": "python",
   "name": "python3"
  },
  "language_info": {
   "codemirror_mode": {
    "name": "ipython",
    "version": 2
   },
   "file_extension": ".py",
   "mimetype": "text/x-python",
   "name": "python",
   "nbconvert_exporter": "python",
   "pygments_lexer": "ipython2",
   "version": "2.7.6"
  }
 },
 "nbformat": 4,
 "nbformat_minor": 0
}