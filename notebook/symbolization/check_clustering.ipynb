{
 "cells": [
  {
   "cell_type": "markdown",
   "source": [
    "# Check clustering result\n",
    "Stefan/Yuzhao Heng\n",
    "Since Tues. Jan. 25th, 2022\n",
    "\n",
    "\n",
    "To convert 12-channel ECG signals to discrete symbols:\n",
    "1. Split signals into fixed-length, 1D signal segments (padded)\n",
    "2. Cluster the segments, jointly with all 12 channels\n",
    "3. Assign each 12-lead ECGs with the id by closest cluster centroid\n",
    "\n",
    "\n",
    "## Setup\n",
    "\n"
   ],
   "metadata": {
    "collapsed": false
   }
  },
  {
   "cell_type": "code",
   "execution_count": null,
   "outputs": [],
   "source": [],
   "metadata": {
    "collapsed": false,
    "pycharm": {
     "name": "#%%\n"
    }
   }
  },
  {
   "cell_type": "markdown",
   "source": [
    "## Check clustering\n",
    "\n"
   ],
   "metadata": {
    "collapsed": false
   }
  },
  {
   "cell_type": "code",
   "execution_count": null,
   "metadata": {
    "collapsed": true
   },
   "outputs": [],
   "source": [
    "\n",
    "\n"
   ]
  }
 ],
 "metadata": {
  "kernelspec": {
   "display_name": "Python 3",
   "language": "python",
   "name": "python3"
  },
  "language_info": {
   "codemirror_mode": {
    "name": "ipython",
    "version": 2
   },
   "file_extension": ".py",
   "mimetype": "text/x-python",
   "name": "python",
   "nbconvert_exporter": "python",
   "pygments_lexer": "ipython2",
   "version": "2.7.6"
  }
 },
 "nbformat": 4,
 "nbformat_minor": 0
}