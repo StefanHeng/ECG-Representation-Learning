{
 "cells": [
  {
   "cell_type": "markdown",
   "metadata": {
    "collapsed": false,
    "id": "Fpo5NeSMXX7W"
   },
   "source": [
    "# Train TextCNN\n",
    "Stefan/Yuzhao Heng\n",
    "Since Wed. Mar. 16th. 2022\n",
    "\n",
    "\n",
    "## Setup\n",
    "### Ipython\n",
    "\n"
   ]
  },
  {
   "cell_type": "code",
   "execution_count": 1,
   "metadata": {
    "collapsed": true,
    "executionInfo": {
     "elapsed": 130,
     "status": "ok",
     "timestamp": 1650080894465,
     "user": {
      "displayName": "Stefan Heng",
      "userId": "11931699939643661721"
     },
     "user_tz": 240
    },
    "id": "TkFVcSixXX7Z",
    "colab": {
     "base_uri": "https://localhost:8080/"
    },
    "outputId": "f7ccef9e-4910-45b6-f53e-156934abdd73"
   },
   "outputs": [],
   "source": [
    "%load_ext autoreload\n",
    "%autoreload 2\n"
   ]
  },
  {
   "cell_type": "markdown",
   "metadata": {
    "collapsed": false,
    "id": "dH8n1JAcXX7a"
   },
   "source": [
    "### Colab\n"
   ]
  },
  {
   "cell_type": "code",
   "execution_count": 2,
   "metadata": {
    "colab": {
     "base_uri": "https://localhost:8080/"
    },
    "executionInfo": {
     "elapsed": 15105,
     "status": "ok",
     "timestamp": 1650080909707,
     "user": {
      "displayName": "Stefan Heng",
      "userId": "11931699939643661721"
     },
     "user_tz": 240
    },
    "id": "vGAJCnm9XX7b",
    "outputId": "d31aa58e-41a9-4c35-8cfd-9b531969c227"
   },
   "outputs": [
    {
     "name": "stderr",
     "output_type": "stream",
     "text": [
      "ic| PATH_BASE: '/Users/stefanh/Documents/UMich/Research/ECG Classification'\n",
      "    DIR_PROJ: 'ECG-Representation-Learning'\n",
      "    PKG_NM: 'ecg_transformer'\n"
     ]
    },
    {
     "data": {
      "text/plain": "('/Users/stefanh/Documents/UMich/Research/ECG Classification',\n 'ECG-Representation-Learning',\n 'ecg_transformer')"
     },
     "execution_count": 2,
     "metadata": {},
     "output_type": "execute_result"
    }
   ],
   "source": [
    "import os\n",
    "import sys\n",
    "\n",
    "\n",
    "is_on_colab = 'google.colab' in sys.modules\n",
    "\n",
    "if is_on_colab:\n",
    "    from google.colab import drive\n",
    "    drive.mount('/content/drive')\n",
    "\n",
    "    ! pip3 install sty icecream\n",
    "    ! pip3 install wfdb\n",
    "    ! pip3 install pytorch-lightning transformers datasets\n",
    "    ! pip3 install vit-pytorch\n",
    "\n",
    "    path = os.path.join('drive', 'My Drive', 'Research', 'ECG Classification', 'ECG-Representation-Learning')\n",
    "    sys.path.append(path)\n",
    "    ! ls \"{path}\"\n",
    "\n",
    "    import time, os\n",
    "    os.environ['TZ'] = 'US/Eastern'\n",
    "    time.tzset()\n",
    "\n",
    "\n",
    "import torch\n",
    "if torch.cuda.is_available():\n",
    "    ! nvidia-smi\n",
    "\n",
    "\n",
    "from icecream import ic\n",
    "\n",
    "from ecg_transformer.util import *\n",
    "ic(PATH_BASE, DIR_PROJ, PKG_NM)\n",
    "\n"
   ]
  },
  {
   "cell_type": "markdown",
   "metadata": {
    "collapsed": false,
    "id": "UVz3VVc3XX7c"
   },
   "source": [
    "### code\n"
   ]
  },
  {
   "cell_type": "code",
   "execution_count": 3,
   "metadata": {
    "colab": {
     "base_uri": "https://localhost:8080/"
    },
    "executionInfo": {
     "elapsed": 7,
     "status": "ok",
     "timestamp": 1650080909708,
     "user": {
      "displayName": "Stefan Heng",
      "userId": "11931699939643661721"
     },
     "user_tz": 240
    },
    "id": "RRdNoaDPXX7c",
    "outputId": "0e605dab-c739-4f78-b69f-7f5ecc06955d"
   },
   "outputs": [
    {
     "name": "stderr",
     "output_type": "stream",
     "text": [
      "Global seed set to 77\n"
     ]
    },
    {
     "data": {
      "text/plain": "77"
     },
     "execution_count": 3,
     "metadata": {},
     "output_type": "execute_result"
    }
   ],
   "source": [
    "from pytorch_lightning.utilities.seed import seed_everything\n",
    "from icecream import ic\n",
    "\n",
    "from ecg_transformer.models.train import get_all_setup\n",
    "\n",
    "seed_everything(config('random-seed'))\n",
    "\n"
   ]
  },
  {
   "cell_type": "markdown",
   "metadata": {
    "collapsed": false,
    "id": "GzUSNGxKXX7d"
   },
   "source": [
    "## Prep"
   ]
  },
  {
   "cell_type": "code",
   "execution_count": 4,
   "metadata": {
    "colab": {
     "base_uri": "https://localhost:8080/"
    },
    "executionInfo": {
     "elapsed": 17561,
     "status": "ok",
     "timestamp": 1650080927265,
     "user": {
      "displayName": "Stefan Heng",
      "userId": "11931699939643661721"
     },
     "user_tz": 240
    },
    "id": "LAP5kvUzXX7d",
    "outputId": "f701146c-a9dd-4d91-b964-34cc32a0ade9"
   },
   "outputs": [
    {
     "name": "stdout",
     "output_type": "stream",
     "text": [
      "\u001B[38;2;0;186;142m2022-04-19 02:10:34\u001B[38;2;97;175;239m| \u001B[39m\u001B[49m\u001B[22m\u001B[23m\u001B[24m\u001B[25m\u001B[27m\u001B[28m\u001B[29m\u001B[38;2;198;120;221m[Get PTB-XL splits]\u001B[38;2;97;175;239m::\u001B[38;2;198;120;221mget_ptbxl_splits\u001B[38;2;97;175;239m::\u001B[38;2;198;120;221mptb_dataset.py\u001B[38;2;97;175;239m:\u001B[38;2;198;120;221m107\u001B[38;2;97;175;239m, \u001B[39m\u001B[49m\u001B[22m\u001B[23m\u001B[24m\u001B[25m\u001B[27m\u001B[28m\u001B[29mINFO\u001B[39m\u001B[49m\u001B[22m\u001B[23m\u001B[24m\u001B[25m\u001B[27m\u001B[28m\u001B[29m\u001B[38;2;97;175;239m - \u001B[39m\u001B[49m\u001B[22m\u001B[23m\u001B[24m\u001B[25m\u001B[27m\u001B[28m\u001B[29mGetting PTB-XL splits with n=\u001B[34m21837\u001B[39m\u001B[49m\u001B[0m... \u001B[39m\u001B[49m\u001B[22m\u001B[23m\u001B[24m\u001B[25m\u001B[27m\u001B[28m\u001B[29m\n",
      "\u001B[38;2;0;186;142m2022-04-19 02:10:34\u001B[38;2;97;175;239m| \u001B[39m\u001B[49m\u001B[22m\u001B[23m\u001B[24m\u001B[25m\u001B[27m\u001B[28m\u001B[29m\u001B[38;2;198;120;221m[Get PTB-XL splits]\u001B[38;2;97;175;239m::\u001B[38;2;198;120;221mget_ptbxl_splits\u001B[38;2;97;175;239m::\u001B[38;2;198;120;221mptb_dataset.py\u001B[38;2;97;175;239m:\u001B[38;2;198;120;221m116\u001B[38;2;97;175;239m, \u001B[39m\u001B[49m\u001B[22m\u001B[23m\u001B[24m\u001B[25m\u001B[27m\u001B[28m\u001B[29mINFO\u001B[39m\u001B[49m\u001B[22m\u001B[23m\u001B[24m\u001B[25m\u001B[27m\u001B[28m\u001B[29m\u001B[38;2;97;175;239m - \u001B[39m\u001B[49m\u001B[22m\u001B[23m\u001B[24m\u001B[25m\u001B[27m\u001B[28m\u001B[29mSplits created with sizes \u001B[35m{\u001B[39m\u001B[49m\u001B[0mtrain: \u001B[34m17441\u001B[39m\u001B[49m\u001B[0m, eval: \u001B[34m2193\u001B[39m\u001B[49m\u001B[0m, test: \u001B[34m2203\u001B[39m\u001B[49m\u001B[0m\u001B[35m}\u001B[39m\u001B[49m\u001B[0m... \u001B[39m\u001B[49m\u001B[22m\u001B[23m\u001B[24m\u001B[25m\u001B[27m\u001B[28m\u001B[29m\n"
     ]
    },
    {
     "ename": "KeyboardInterrupt",
     "evalue": "",
     "output_type": "error",
     "traceback": [
      "\u001B[0;31m---------------------------------------------------------------------------\u001B[0m",
      "\u001B[0;31mKeyboardInterrupt\u001B[0m                         Traceback (most recent call last)",
      "File \u001B[0;32m~/opt/anaconda3/envs/ecg/lib/python3.9/site-packages/h5py/_hl/dataset.py:710\u001B[0m, in \u001B[0;36mDataset.__getitem__\u001B[0;34m(self, args, new_dtype)\u001B[0m\n\u001B[1;32m    709\u001B[0m \u001B[38;5;28;01mtry\u001B[39;00m:\n\u001B[0;32m--> 710\u001B[0m     \u001B[38;5;28;01mreturn\u001B[39;00m \u001B[38;5;28;43mself\u001B[39;49m\u001B[38;5;241;43m.\u001B[39;49m\u001B[43m_fast_reader\u001B[49m\u001B[38;5;241;43m.\u001B[39;49m\u001B[43mread\u001B[49m\u001B[43m(\u001B[49m\u001B[43margs\u001B[49m\u001B[43m)\u001B[49m\n\u001B[1;32m    711\u001B[0m \u001B[38;5;28;01mexcept\u001B[39;00m \u001B[38;5;167;01mTypeError\u001B[39;00m:\n",
      "\u001B[0;31mKeyboardInterrupt\u001B[0m: ",
      "\nDuring handling of the above exception, another exception occurred:\n",
      "\u001B[0;31mKeyboardInterrupt\u001B[0m                         Traceback (most recent call last)",
      "Input \u001B[0;32mIn [4]\u001B[0m, in \u001B[0;36m<cell line: 28>\u001B[0;34m()\u001B[0m\n\u001B[1;32m     10\u001B[0m with_pl \u001B[38;5;241m=\u001B[39m \u001B[38;5;28;01mFalse\u001B[39;00m\n\u001B[1;32m     12\u001B[0m train_args \u001B[38;5;241m=\u001B[39m \u001B[38;5;28mdict\u001B[39m(\n\u001B[1;32m     13\u001B[0m     num_train_epoch\u001B[38;5;241m=\u001B[39m\u001B[38;5;241m32\u001B[39m,\n\u001B[1;32m     14\u001B[0m     train_batch_size\u001B[38;5;241m=\u001B[39m\u001B[38;5;241m256\u001B[39m,\n\u001B[0;32m   (...)\u001B[0m\n\u001B[1;32m     26\u001B[0m     tqdm\u001B[38;5;241m=\u001B[39m\u001B[38;5;28;01mTrue\u001B[39;00m\n\u001B[1;32m     27\u001B[0m )\n\u001B[0;32m---> 28\u001B[0m model, trainer \u001B[38;5;241m=\u001B[39m \u001B[43mget_all_setup\u001B[49m\u001B[43m(\u001B[49m\u001B[43mmodel_size\u001B[49m\u001B[38;5;241;43m=\u001B[39;49m\u001B[43mmodel_size\u001B[49m\u001B[43m,\u001B[49m\u001B[43m \u001B[49m\u001B[43mtrain_args\u001B[49m\u001B[38;5;241;43m=\u001B[39;49m\u001B[43mtrain_args\u001B[49m\u001B[43m,\u001B[49m\u001B[43m \u001B[49m\u001B[43mptbxl_type\u001B[49m\u001B[38;5;241;43m=\u001B[39;49m\u001B[43mt\u001B[49m\u001B[43m,\u001B[49m\u001B[43m \u001B[49m\u001B[43mwith_pl\u001B[49m\u001B[38;5;241;43m=\u001B[39;49m\u001B[43mwith_pl\u001B[49m\u001B[43m)\u001B[49m\n",
      "File \u001B[0;32m~/Documents/UMich/Research/ECG Classification/ECG-Representation-Learning/ecg_transformer/models/train.py:462\u001B[0m, in \u001B[0;36mget_all_setup\u001B[0;34m(model_name, model_size, train_args, ptbxl_type, with_pl)\u001B[0m\n\u001B[1;32m    460\u001B[0m timeout \u001B[38;5;241m=\u001B[39m train_args\u001B[38;5;241m.\u001B[39mget(\u001B[38;5;124m'\u001B[39m\u001B[38;5;124maugment_timeout\u001B[39m\u001B[38;5;124m'\u001B[39m, \u001B[38;5;28;01mFalse\u001B[39;00m)  \u001B[38;5;66;03m# TODO: kinda ugly, defined again in `get_train_args`\u001B[39;00m\n\u001B[1;32m    461\u001B[0m args \u001B[38;5;241m=\u001B[39m \u001B[38;5;28mdict\u001B[39m(\u001B[38;5;28mtype\u001B[39m\u001B[38;5;241m=\u001B[39mptbxl_type, n_sample\u001B[38;5;241m=\u001B[39mtrain_args[\u001B[38;5;124m'\u001B[39m\u001B[38;5;124mn_sample\u001B[39m\u001B[38;5;124m'\u001B[39m], std_norm\u001B[38;5;241m=\u001B[39m\u001B[38;5;28;01mTrue\u001B[39;00m, pad\u001B[38;5;241m=\u001B[39mconf\u001B[38;5;241m.\u001B[39mpatch_size, timeout\u001B[38;5;241m=\u001B[39mtimeout)\n\u001B[0;32m--> 462\u001B[0m tr, vl, ts \u001B[38;5;241m=\u001B[39m \u001B[43mget_ptbxl_dataset\u001B[49m\u001B[43m(\u001B[49m\u001B[38;5;241;43m*\u001B[39;49m\u001B[38;5;241;43m*\u001B[39;49m\u001B[43margs\u001B[49m\u001B[43m)\u001B[49m\n\u001B[1;32m    463\u001B[0m \u001B[38;5;66;03m# tr, vl, ts = get_ptbxl_splits(n_sample=train_args['n_sample'], dataset_args=dset_args)\u001B[39;00m\n\u001B[1;32m    464\u001B[0m n_train \u001B[38;5;241m=\u001B[39m \u001B[38;5;28mlen\u001B[39m(tr)\n",
      "File \u001B[0;32m~/Documents/UMich/Research/ECG Classification/ECG-Representation-Learning/ecg_transformer/preprocess/ptb_dataset.py:142\u001B[0m, in \u001B[0;36mget_ptbxl_dataset\u001B[0;34m(type, n_sample, std_norm, pad, timeout)\u001B[0m\n\u001B[1;32m    140\u001B[0m norm \u001B[38;5;241m=\u001B[39m config(\u001B[38;5;124mf\u001B[39m\u001B[38;5;124m'\u001B[39m\u001B[38;5;124mdatasets.\u001B[39m\u001B[38;5;132;01m{\u001B[39;00mDNM\u001B[38;5;132;01m}\u001B[39;00m\u001B[38;5;124m.train-stats.\u001B[39m\u001B[38;5;132;01m{\u001B[39;00m\u001B[38;5;28mtype\u001B[39m\u001B[38;5;132;01m}\u001B[39;00m\u001B[38;5;124m'\u001B[39m) \u001B[38;5;28;01mif\u001B[39;00m std_norm \u001B[38;5;28;01melse\u001B[39;00m \u001B[38;5;28;01mNone\u001B[39;00m\n\u001B[1;32m    141\u001B[0m dset_args \u001B[38;5;241m=\u001B[39m \u001B[38;5;28mdict\u001B[39m(\u001B[38;5;28mtype\u001B[39m\u001B[38;5;241m=\u001B[39m\u001B[38;5;28mtype\u001B[39m, normalize\u001B[38;5;241m=\u001B[39mnorm, transform\u001B[38;5;241m=\u001B[39mtsf, return_type\u001B[38;5;241m=\u001B[39m\u001B[38;5;124m'\u001B[39m\u001B[38;5;124mpt\u001B[39m\u001B[38;5;124m'\u001B[39m)\n\u001B[0;32m--> 142\u001B[0m \u001B[38;5;28;01mreturn\u001B[39;00m \u001B[43mget_ptbxl_splits\u001B[49m\u001B[43m(\u001B[49m\u001B[43mn_sample\u001B[49m\u001B[38;5;241;43m=\u001B[39;49m\u001B[43mn_sample\u001B[49m\u001B[43m,\u001B[49m\u001B[43m \u001B[49m\u001B[43mdataset_args\u001B[49m\u001B[38;5;241;43m=\u001B[39;49m\u001B[43mdset_args\u001B[49m\u001B[43m)\u001B[49m\n",
      "File \u001B[0;32m~/Documents/UMich/Research/ECG Classification/ECG-Representation-Learning/ecg_transformer/preprocess/ptb_dataset.py:123\u001B[0m, in \u001B[0;36mget_ptbxl_splits\u001B[0;34m(n_sample, dataset_args)\u001B[0m\n\u001B[1;32m    120\u001B[0m \u001B[38;5;28;01mdef\u001B[39;00m \u001B[38;5;21mget_dset\u001B[39m(df_) \u001B[38;5;241m-\u001B[39m\u001B[38;5;241m>\u001B[39m PtbxlDataset:\n\u001B[1;32m    121\u001B[0m     \u001B[38;5;66;03m# so that indexing into `labels` is 0-indexed\u001B[39;00m\n\u001B[1;32m    122\u001B[0m     \u001B[38;5;28;01mreturn\u001B[39;00m PtbxlDataset(df_\u001B[38;5;241m.\u001B[39mindex\u001B[38;5;241m.\u001B[39mto_numpy(), df_\u001B[38;5;241m.\u001B[39mreset_index(drop\u001B[38;5;241m=\u001B[39m\u001B[38;5;28;01mTrue\u001B[39;00m)\u001B[38;5;241m.\u001B[39mlabels, \u001B[38;5;241m*\u001B[39m\u001B[38;5;241m*\u001B[39mdataset_args)\n\u001B[0;32m--> 123\u001B[0m \u001B[38;5;28;01mreturn\u001B[39;00m PtbxlSplitDatasets(train\u001B[38;5;241m=\u001B[39m\u001B[43mget_dset\u001B[49m\u001B[43m(\u001B[49m\u001B[43mdf_tr\u001B[49m\u001B[43m)\u001B[49m, \u001B[38;5;28meval\u001B[39m\u001B[38;5;241m=\u001B[39mget_dset(df_vl), test\u001B[38;5;241m=\u001B[39mget_dset(df_ts))\n",
      "File \u001B[0;32m~/Documents/UMich/Research/ECG Classification/ECG-Representation-Learning/ecg_transformer/preprocess/ptb_dataset.py:122\u001B[0m, in \u001B[0;36mget_ptbxl_splits.<locals>.get_dset\u001B[0;34m(df_)\u001B[0m\n\u001B[1;32m    120\u001B[0m \u001B[38;5;28;01mdef\u001B[39;00m \u001B[38;5;21mget_dset\u001B[39m(df_) \u001B[38;5;241m-\u001B[39m\u001B[38;5;241m>\u001B[39m PtbxlDataset:\n\u001B[1;32m    121\u001B[0m     \u001B[38;5;66;03m# so that indexing into `labels` is 0-indexed\u001B[39;00m\n\u001B[0;32m--> 122\u001B[0m     \u001B[38;5;28;01mreturn\u001B[39;00m \u001B[43mPtbxlDataset\u001B[49m\u001B[43m(\u001B[49m\u001B[43mdf_\u001B[49m\u001B[38;5;241;43m.\u001B[39;49m\u001B[43mindex\u001B[49m\u001B[38;5;241;43m.\u001B[39;49m\u001B[43mto_numpy\u001B[49m\u001B[43m(\u001B[49m\u001B[43m)\u001B[49m\u001B[43m,\u001B[49m\u001B[43m \u001B[49m\u001B[43mdf_\u001B[49m\u001B[38;5;241;43m.\u001B[39;49m\u001B[43mreset_index\u001B[49m\u001B[43m(\u001B[49m\u001B[43mdrop\u001B[49m\u001B[38;5;241;43m=\u001B[39;49m\u001B[38;5;28;43;01mTrue\u001B[39;49;00m\u001B[43m)\u001B[49m\u001B[38;5;241;43m.\u001B[39;49m\u001B[43mlabels\u001B[49m\u001B[43m,\u001B[49m\u001B[43m \u001B[49m\u001B[38;5;241;43m*\u001B[39;49m\u001B[38;5;241;43m*\u001B[39;49m\u001B[43mdataset_args\u001B[49m\u001B[43m)\u001B[49m\n",
      "File \u001B[0;32m~/Documents/UMich/Research/ECG Classification/ECG-Representation-Learning/ecg_transformer/preprocess/ptb_dataset.py:64\u001B[0m, in \u001B[0;36mPtbxlDataset.__init__\u001B[0;34m(self, idxs, labels, type, **kwargs)\u001B[0m\n\u001B[1;32m     62\u001B[0m \u001B[38;5;28;01massert\u001B[39;00m \u001B[38;5;124m'\u001B[39m\u001B[38;5;124mdataset\u001B[39m\u001B[38;5;124m'\u001B[39m \u001B[38;5;129;01mnot\u001B[39;00m \u001B[38;5;129;01min\u001B[39;00m kwargs \u001B[38;5;129;01mand\u001B[39;00m \u001B[38;5;124m'\u001B[39m\u001B[38;5;124msubset\u001B[39m\u001B[38;5;124m'\u001B[39m \u001B[38;5;129;01mnot\u001B[39;00m \u001B[38;5;129;01min\u001B[39;00m kwargs\n\u001B[1;32m     63\u001B[0m kwargs[\u001B[38;5;124m'\u001B[39m\u001B[38;5;124mdataset\u001B[39m\u001B[38;5;124m'\u001B[39m], kwargs[\u001B[38;5;124m'\u001B[39m\u001B[38;5;124msubset\u001B[39m\u001B[38;5;124m'\u001B[39m] \u001B[38;5;241m=\u001B[39m ecg_util\u001B[38;5;241m.\u001B[39mget_processed_record_path(\u001B[38;5;124m'\u001B[39m\u001B[38;5;124mPTB-XL\u001B[39m\u001B[38;5;124m'\u001B[39m, \u001B[38;5;28mtype\u001B[39m\u001B[38;5;241m=\u001B[39m\u001B[38;5;28mtype\u001B[39m), idxs\n\u001B[0;32m---> 64\u001B[0m \u001B[38;5;28;43msuper\u001B[39;49m\u001B[43m(\u001B[49m\u001B[43m)\u001B[49m\u001B[38;5;241;43m.\u001B[39;49m\u001B[38;5;21;43m__init__\u001B[39;49m\u001B[43m(\u001B[49m\u001B[38;5;241;43m*\u001B[39;49m\u001B[38;5;241;43m*\u001B[39;49m\u001B[43mkwargs\u001B[49m\u001B[43m)\u001B[49m\n\u001B[1;32m     65\u001B[0m \u001B[38;5;28mself\u001B[39m\u001B[38;5;241m.\u001B[39mlabels \u001B[38;5;241m=\u001B[39m labels\n",
      "File \u001B[0;32m~/Documents/UMich/Research/ECG Classification/ECG-Representation-Learning/ecg_transformer/preprocess/dataset.py:47\u001B[0m, in \u001B[0;36mEcgDataset.__init__\u001B[0;34m(self, dataset, subset, fqs, return_type, normalize, transform)\u001B[0m\n\u001B[1;32m     44\u001B[0m arr \u001B[38;5;241m=\u001B[39m \u001B[38;5;28;01mNone\u001B[39;00m\n\u001B[1;32m     45\u001B[0m \u001B[38;5;28;01mif\u001B[39;00m subset \u001B[38;5;129;01mis\u001B[39;00m \u001B[38;5;129;01mnot\u001B[39;00m \u001B[38;5;28;01mNone\u001B[39;00m \u001B[38;5;129;01mand\u001B[39;00m subset \u001B[38;5;129;01mis\u001B[39;00m \u001B[38;5;129;01mnot\u001B[39;00m \u001B[38;5;28;01mFalse\u001B[39;00m:\n\u001B[1;32m     46\u001B[0m     \u001B[38;5;66;03m# all data stored in memory; TODO: optimization?\u001B[39;00m\n\u001B[0;32m---> 47\u001B[0m     \u001B[38;5;28mself\u001B[39m\u001B[38;5;241m.\u001B[39mdataset: np\u001B[38;5;241m.\u001B[39mndarray \u001B[38;5;241m=\u001B[39m \u001B[38;5;28;43mself\u001B[39;49m\u001B[38;5;241;43m.\u001B[39;49m\u001B[43mdataset\u001B[49m\u001B[43m[\u001B[49m\u001B[43msubset\u001B[49m\u001B[43m]\u001B[49m\n\u001B[1;32m     48\u001B[0m     \u001B[38;5;28mself\u001B[39m\u001B[38;5;241m.\u001B[39mis_full \u001B[38;5;241m=\u001B[39m \u001B[38;5;28;01mTrue\u001B[39;00m\n\u001B[1;32m     49\u001B[0m     \u001B[38;5;28;01mif\u001B[39;00m is_dynamic_norm:\n",
      "File \u001B[0;32mh5py/_objects.pyx:54\u001B[0m, in \u001B[0;36mh5py._objects.with_phil.wrapper\u001B[0;34m()\u001B[0m\n",
      "File \u001B[0;32mh5py/_objects.pyx:55\u001B[0m, in \u001B[0;36mh5py._objects.with_phil.wrapper\u001B[0;34m()\u001B[0m\n",
      "File \u001B[0;32m~/opt/anaconda3/envs/ecg/lib/python3.9/site-packages/h5py/_hl/dataset.py:710\u001B[0m, in \u001B[0;36mDataset.__getitem__\u001B[0;34m(self, args, new_dtype)\u001B[0m\n\u001B[1;32m    708\u001B[0m \u001B[38;5;28;01mif\u001B[39;00m \u001B[38;5;28mself\u001B[39m\u001B[38;5;241m.\u001B[39m_fast_read_ok \u001B[38;5;129;01mand\u001B[39;00m (new_dtype \u001B[38;5;129;01mis\u001B[39;00m \u001B[38;5;28;01mNone\u001B[39;00m):\n\u001B[1;32m    709\u001B[0m     \u001B[38;5;28;01mtry\u001B[39;00m:\n\u001B[0;32m--> 710\u001B[0m         \u001B[38;5;28;01mreturn\u001B[39;00m \u001B[38;5;28;43mself\u001B[39;49m\u001B[38;5;241;43m.\u001B[39;49m\u001B[43m_fast_reader\u001B[49m\u001B[38;5;241;43m.\u001B[39;49m\u001B[43mread\u001B[49m\u001B[43m(\u001B[49m\u001B[43margs\u001B[49m\u001B[43m)\u001B[49m\n\u001B[1;32m    711\u001B[0m     \u001B[38;5;28;01mexcept\u001B[39;00m \u001B[38;5;167;01mTypeError\u001B[39;00m:\n\u001B[1;32m    712\u001B[0m         \u001B[38;5;28;01mpass\u001B[39;00m  \u001B[38;5;66;03m# Fall back to Python read pathway below\u001B[39;00m\n",
      "\u001B[0;31mKeyboardInterrupt\u001B[0m: "
     ]
    }
   ],
   "source": [
    "# model_size = 'debug'\n",
    "model_size = 'base'\n",
    "# model_size = 'tiny'\n",
    "t = 'original'\n",
    "\n",
    "# n_sample = 4\n",
    "# n_sample = 512\n",
    "n_sample = None\n",
    "\n",
    "with_pl = False\n",
    "\n",
    "train_args = dict(\n",
    "    num_train_epoch=32,\n",
    "    train_batch_size=256,\n",
    "    # train_batch_size=32,\n",
    "    eval_batch_size=256*2,\n",
    "    warmup_ratio=0.1,\n",
    "    n_sample=n_sample,\n",
    "    augment_timeout=True,\n",
    "    patience=16,\n",
    "    precision=16,\n",
    "    log_per_epoch=True,\n",
    "    # log_to_console=False\n",
    "    save_while_training=True,\n",
    "    save_every_n_epoch=8,\n",
    "    save_top_k=4,\n",
    "    tqdm=True\n",
    ")\n",
    "model, trainer = get_all_setup(model_size=model_size, train_args=train_args, ptbxl_type=t, with_pl=with_pl)\n",
    "\n"
   ]
  },
  {
   "cell_type": "markdown",
   "metadata": {
    "collapsed": false,
    "id": "vUqEouqEXX7e"
   },
   "source": [
    "## Train\n",
    "\n"
   ]
  },
  {
   "cell_type": "code",
   "execution_count": null,
   "metadata": {
    "colab": {
     "base_uri": "https://localhost:8080/"
    },
    "id": "Q2zdcykJXX7e",
    "outputId": "57fd166f-ff5b-4160-c13c-995f8fdd06d2",
    "executionInfo": {
     "status": "ok",
     "timestamp": 1650082043602,
     "user_tz": 240,
     "elapsed": 1116340,
     "user": {
      "displayName": "Stefan Heng",
      "userId": "11931699939643661721"
     }
    }
   },
   "outputs": [],
   "source": [
    "trainer.train()\n",
    "\n"
   ]
  },
  {
   "cell_type": "markdown",
   "metadata": {
    "collapsed": false,
    "id": "XR-GxboyXX7f"
   },
   "source": [
    "## Evaluate\n",
    "\n"
   ]
  },
  {
   "cell_type": "code",
   "execution_count": null,
   "metadata": {
    "id": "8BPq5qi8XX7f",
    "colab": {
     "base_uri": "https://localhost:8080/"
    },
    "executionInfo": {
     "status": "ok",
     "timestamp": 1650084248818,
     "user_tz": 240,
     "elapsed": 129,
     "user": {
      "displayName": "Stefan Heng",
      "userId": "11931699939643661721"
     }
    },
    "outputId": "5237db8d-6135-47e1-81dc-9dac76c21538"
   },
   "outputs": [],
   "source": [
    "# TODO\n",
    "os.listdir(trainer.output_dir)\n"
   ]
  }
 ],
 "metadata": {
  "accelerator": "GPU",
  "colab": {
   "collapsed_sections": [],
   "name": "baseline_vit.ipynb",
   "provenance": []
  },
  "kernelspec": {
   "display_name": "Python 3",
   "language": "python",
   "name": "python3"
  },
  "language_info": {
   "codemirror_mode": {
    "name": "ipython",
    "version": 2
   },
   "file_extension": ".py",
   "mimetype": "text/x-python",
   "name": "python",
   "nbconvert_exporter": "python",
   "pygments_lexer": "ipython2",
   "version": "2.7.6"
  }
 },
 "nbformat": 4,
 "nbformat_minor": 0
}