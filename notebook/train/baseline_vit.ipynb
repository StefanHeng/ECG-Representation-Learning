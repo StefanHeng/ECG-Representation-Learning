{
 "cells": [
  {
   "cell_type": "markdown",
   "source": [
    "# Train TextCNN\n",
    "Stefan/Yuzhao Heng\n",
    "Since Wed. Mar. 16th. 2022\n",
    "\n",
    "\n",
    "## Setup\n",
    "### Ipython\n",
    "\n"
   ],
   "metadata": {
    "collapsed": false
   }
  },
  {
   "cell_type": "code",
   "execution_count": 1,
   "metadata": {
    "collapsed": true
   },
   "outputs": [],
   "source": [
    "%load_ext autoreload\n",
    "%autoreload 2\n"
   ]
  },
  {
   "cell_type": "markdown",
   "source": [
    "### Colab\n"
   ],
   "metadata": {
    "collapsed": false
   }
  },
  {
   "cell_type": "code",
   "execution_count": 2,
   "outputs": [
    {
     "name": "stdout",
     "output_type": "stream",
     "text": [
      "/Users/stefanh/Documents/UMich/Course/Course 2022 Winter/EECS487\n",
      "Text-CNN-SQuAD\n",
      "text_cnn\n"
     ]
    }
   ],
   "source": [
    "import os\n",
    "import sys\n",
    "\n",
    "\n",
    "is_on_colab = 'google.colab' in sys.modules\n",
    "\n",
    "if is_on_colab:\n",
    "    from google.colab import drive\n",
    "    drive.mount('/content/drive')\n",
    "\n",
    "    ! pip3 install sty icecream\n",
    "    ! pip3 install wfdb\n",
    "    ! pip3 install pytorch-lightning transformers datasets\n",
    "    ! pip3 install vit-pytorch\n",
    "\n",
    "    path = os.path.join('drive', 'My Drive', 'Research', 'ECG Classification', 'ECG-Representation-Learning')\n",
    "    sys.path.append(path)\n",
    "    ! ls \"{path}\"\n",
    "\n",
    "    import time, os\n",
    "    os.environ['TZ'] = 'US/Eastern'\n",
    "    time.tzset()\n",
    "\n",
    "    import torch\n",
    "    if torch.cuda.is_available():\n",
    "        ! nivida-smi\n",
    "\n",
    "\n",
    "from icecream import ic\n",
    "\n",
    "from ecg_transformer.util import *\n",
    "ic(PATH_BASE, DIR_PROJ, PKG_NM)\n",
    "\n"
   ],
   "metadata": {
    "collapsed": false,
    "pycharm": {
     "name": "#%%\n"
    }
   }
  },
  {
   "cell_type": "markdown",
   "source": [
    "### code\n"
   ],
   "metadata": {
    "collapsed": false
   }
  },
  {
   "cell_type": "code",
   "execution_count": 3,
   "outputs": [],
   "source": [
    "from pytorch_lightning.utilities.seed import seed_everything\n",
    "from icecream import ic\n",
    "\n",
    "from ecg_transformer.baseline import MyTrainer\n",
    "\n",
    "seed_everything(config('random-seed'))\n",
    "\n"
   ],
   "metadata": {
    "collapsed": false,
    "pycharm": {
     "name": "#%%\n"
    }
   }
  },
  {
   "cell_type": "markdown",
   "source": [
    "## Prep"
   ],
   "metadata": {
    "collapsed": false
   }
  },
  {
   "cell_type": "code",
   "execution_count": 4,
   "outputs": [
    {
     "name": "stdout",
     "output_type": "stream",
     "text": [
      "Loaded \u001B[34mKeyedVectors\u001B[39m\u001B[49m\u001B[0m from disk at \u001B[34m/Users/stefanh/Documents/UMich/Course/Course 2022 Winter/EECS487/Text-CNN-SQuAD/glove-wiki-gigaword-300.kv\u001B[39m\u001B[49m\u001B[0m\n"
     ]
    },
    {
     "name": "stderr",
     "output_type": "stream",
     "text": [
      "ic| md: TextCnn(\n",
      "          (embed_frozen): Embedding(400000, 300)\n",
      "          (embed_train): Embedding(5, 300)\n",
      "          (embed_position): Embedding(88, 300)\n",
      "          (conv_module): OriginalConvModule(\n",
      "            (convs): ModuleList(\n",
      "              (0): Conv2d(1, 64, kernel_size=(3, 300), stride=(1, 1))\n",
      "              (1): Conv2d(1, 64, kernel_size=(4, 300), stride=(1, 1))\n",
      "              (2): Conv2d(1, 64, kernel_size=(5, 300), stride=(1, 1))\n",
      "            )\n",
      "          )\n",
      "          (dropout): Dropout(p=0.5, inplace=False)\n",
      "          (fc): Linear(in_features=192, out_features=2, bias=True)\n",
      "          (loss_fn): CrossEntropyLoss()\n",
      "        )\n"
     ]
    }
   ],
   "source": [
    "trainer = MyTrainer(train_args=dict(\n",
    "    train_batch_size=4,\n",
    "    eval_batch_size=4,\n",
    "    n_sample=8,\n",
    "    precision=16\n",
    "))\n",
    "\n"
   ],
   "metadata": {
    "collapsed": false,
    "pycharm": {
     "name": "#%%\n"
    }
   }
  },
  {
   "cell_type": "markdown",
   "source": [
    "## Train\n",
    "\n"
   ],
   "metadata": {
    "collapsed": false
   }
  },
  {
   "cell_type": "code",
   "execution_count": 5,
   "outputs": [
    {
     "name": "stdout",
     "output_type": "stream",
     "text": [
      "Loaded \u001B[34mKeyedVectors\u001B[39m\u001B[49m\u001B[0m from disk at \u001B[34m/Users/stefanh/Documents/UMich/Course/Course 2022 Winter/EECS487/Text-CNN-SQuAD/glove-wiki-gigaword-300.kv\u001B[39m\u001B[49m\u001B[0m\n",
      "\u001B[38;2;0;186;142m2022-03-17 20:45:47\u001B[38;2;97;175;239m| \u001B[39m\u001B[49m\u001B[22m\u001B[23m\u001B[24m\u001B[25m\u001B[27m\u001B[28m\u001B[29m\u001B[38;2;198;120;221m[TextCNN Train]\u001B[38;2;97;175;239m::\u001B[38;2;198;120;221mtrain\u001B[38;2;97;175;239m::\u001B[38;2;198;120;221mtrain.py\u001B[38;2;97;175;239m:\u001B[38;2;198;120;221m135\u001B[38;2;97;175;239m, \u001B[39m\u001B[49m\u001B[22m\u001B[23m\u001B[24m\u001B[25m\u001B[27m\u001B[28m\u001B[29mINFO\u001B[39m\u001B[49m\u001B[22m\u001B[23m\u001B[24m\u001B[25m\u001B[27m\u001B[28m\u001B[29m\u001B[38;2;97;175;239m - \u001B[39m\u001B[49m\u001B[22m\u001B[23m\u001B[24m\u001B[25m\u001B[27m\u001B[28m\u001B[29mLaunched training model \u001B[35m{\u001B[39m\u001B[49m\u001B[0mmodel name: \u001B[34mTextCnn\u001B[39m\u001B[49m\u001B[0m, pretrained embedding shape: \u001B[34m(400000, 300)\u001B[39m\u001B[49m\u001B[0m, trainable embedding shape: \u001B[34m(5, 300)\u001B[39m\u001B[49m\u001B[0m, max sentence length: \u001B[34m64\u001B[39m\u001B[49m\u001B[0m, max question length: \u001B[34m24\u001B[39m\u001B[49m\u001B[0m, conv module meta: \u001B[34m{name=original, kernel-sp=(3, 4, 5) x 64, pool=avg}\u001B[39m\u001B[49m\u001B[0m, #class: \u001B[34m2\u001B[39m\u001B[49m\u001B[0m, loss weight: \u001B[34mNone\u001B[39m\u001B[49m\u001B[0m\u001B[35m}\u001B[39m\u001B[49m\u001B[0m with args \u001B[35m{\u001B[39m\u001B[49m\u001B[0m#train: \u001B[34m4\u001B[39m\u001B[49m\u001B[0m, #train pair: \u001B[34m2\u001B[39m\u001B[49m\u001B[0m, #eval: \u001B[34m4\u001B[39m\u001B[49m\u001B[0m, train batch size: \u001B[34m64\u001B[39m\u001B[49m\u001B[0m, eval batch size: \u001B[34m32\u001B[39m\u001B[49m\u001B[0m, #epoch: \u001B[34m4\u001B[39m\u001B[49m\u001B[0m, #step: \u001B[34m8\u001B[39m\u001B[49m\u001B[0m, learning rate: \u001B[34m0.0003\u001B[39m\u001B[49m\u001B[0m, warmup ratio: \u001B[34m0.05\u001B[39m\u001B[49m\u001B[0m, negative sub-sampling: \u001B[34mTrue\u001B[39m\u001B[49m\u001B[0m\u001B[35m}\u001B[39m\u001B[49m\u001B[0m and save logging \u001B[34mFalse\u001B[39m\u001B[49m\u001B[0m... \u001B[39m\u001B[49m\u001B[22m\u001B[23m\u001B[24m\u001B[25m\u001B[27m\u001B[28m\u001B[29m\n",
      "\u001B[38;2;0;186;142m2022-03-17 20:45:47\u001B[38;2;97;175;239m| \u001B[39m\u001B[49m\u001B[22m\u001B[23m\u001B[24m\u001B[25m\u001B[27m\u001B[28m\u001B[29m\u001B[38;2;198;120;221m[TextCNN Train]\u001B[38;2;97;175;239m::\u001B[38;2;198;120;221mevaluate\u001B[38;2;97;175;239m::\u001B[38;2;198;120;221mtrain.py\u001B[38;2;97;175;239m:\u001B[38;2;198;120;221m206\u001B[38;2;97;175;239m, \u001B[39m\u001B[49m\u001B[22m\u001B[23m\u001B[24m\u001B[25m\u001B[27m\u001B[28m\u001B[29mINFO\u001B[39m\u001B[49m\u001B[22m\u001B[23m\u001B[24m\u001B[25m\u001B[27m\u001B[28m\u001B[29m\u001B[38;2;97;175;239m - \u001B[39m\u001B[49m\u001B[22m\u001B[23m\u001B[24m\u001B[25m\u001B[27m\u001B[28m\u001B[29mRunning evaluation with args \u001B[35m{\u001B[39m\u001B[49m\u001B[0m#eval group: \u001B[34m4\u001B[39m\u001B[49m\u001B[0m, eval batch size: \u001B[34m32\u001B[39m\u001B[49m\u001B[0m\u001B[35m}\u001B[39m\u001B[49m\u001B[0m at epoch \u001B[34m-1\u001B[39m\u001B[49m\u001B[0m\u001B[39m\u001B[49m\u001B[22m\u001B[23m\u001B[24m\u001B[25m\u001B[27m\u001B[28m\u001B[29m\n"
     ]
    },
    {
     "name": "stderr",
     "output_type": "stream",
     "text": [
      "Eval Before training: 100%|██████████| 1/1 [00:00<00:00,  3.06ba/s]\n"
     ]
    },
    {
     "name": "stdout",
     "output_type": "stream",
     "text": [
      "\u001B[38;2;0;186;142m2022-03-17 20:45:47\u001B[38;2;97;175;239m| \u001B[39m\u001B[49m\u001B[22m\u001B[23m\u001B[24m\u001B[25m\u001B[27m\u001B[28m\u001B[29m\u001B[38;2;198;120;221m[TextCNN Train]\u001B[38;2;97;175;239m::\u001B[38;2;198;120;221mevaluate\u001B[38;2;97;175;239m::\u001B[38;2;198;120;221mtrain.py\u001B[38;2;97;175;239m:\u001B[38;2;198;120;221m283\u001B[38;2;97;175;239m, \u001B[39m\u001B[49m\u001B[22m\u001B[23m\u001B[24m\u001B[25m\u001B[27m\u001B[28m\u001B[29mINFO\u001B[39m\u001B[49m\u001B[22m\u001B[23m\u001B[24m\u001B[25m\u001B[27m\u001B[28m\u001B[29m\u001B[38;2;97;175;239m - \u001B[39m\u001B[49m\u001B[22m\u001B[23m\u001B[24m\u001B[25m\u001B[27m\u001B[28m\u001B[29m\u001B[35m{\u001B[39m\u001B[49m\u001B[0meval_loss: \u001B[34m 0.7145\u001B[39m\u001B[49m\u001B[0m, eval_binary_acc: \u001B[34m  9.52\u001B[39m\u001B[49m\u001B[0m, eval_cls_acc: \u001B[34m  7.50\u001B[39m\u001B[49m\u001B[0m\u001B[35m}\u001B[39m\u001B[49m\u001B[0m\u001B[39m\u001B[49m\u001B[22m\u001B[23m\u001B[24m\u001B[25m\u001B[27m\u001B[28m\u001B[29m\n"
     ]
    },
    {
     "name": "stderr",
     "output_type": "stream",
     "text": [
      "Train Epoch #1/4: 100%|██████████| 2/2 [00:00<00:00,  5.19it/s]\n"
     ]
    },
    {
     "name": "stdout",
     "output_type": "stream",
     "text": [
      "\u001B[38;2;0;186;142m2022-03-17 20:45:48\u001B[38;2;97;175;239m| \u001B[39m\u001B[49m\u001B[22m\u001B[23m\u001B[24m\u001B[25m\u001B[27m\u001B[28m\u001B[29m\u001B[38;2;198;120;221m[TextCNN Train]\u001B[38;2;97;175;239m::\u001B[38;2;198;120;221mtrain\u001B[38;2;97;175;239m::\u001B[38;2;198;120;221mtrain.py\u001B[38;2;97;175;239m:\u001B[38;2;198;120;221m187\u001B[38;2;97;175;239m, \u001B[39m\u001B[49m\u001B[22m\u001B[23m\u001B[24m\u001B[25m\u001B[27m\u001B[28m\u001B[29mINFO\u001B[39m\u001B[49m\u001B[22m\u001B[23m\u001B[24m\u001B[25m\u001B[27m\u001B[28m\u001B[29m\u001B[38;2;97;175;239m - \u001B[39m\u001B[49m\u001B[22m\u001B[23m\u001B[24m\u001B[25m\u001B[27m\u001B[28m\u001B[29mLast batch: \u001B[35m{\u001B[39m\u001B[49m\u001B[0mepoch: \u001B[34m0/4\u001B[39m\u001B[49m\u001B[0m, step: \u001B[34m2/8\u001B[39m\u001B[49m\u001B[0m, lr: \u001B[34m2.561e-04\u001B[39m\u001B[49m\u001B[0m, train_loss: \u001B[34m 0.7994\u001B[39m\u001B[49m\u001B[0m, train_binary_acc: \u001B[34m 37.50\u001B[39m\u001B[49m\u001B[0m\u001B[35m}\u001B[39m\u001B[49m\u001B[0m\u001B[39m\u001B[49m\u001B[22m\u001B[23m\u001B[24m\u001B[25m\u001B[27m\u001B[28m\u001B[29m\n",
      "\u001B[38;2;0;186;142m2022-03-17 20:45:48\u001B[38;2;97;175;239m| \u001B[39m\u001B[49m\u001B[22m\u001B[23m\u001B[24m\u001B[25m\u001B[27m\u001B[28m\u001B[29m\u001B[38;2;198;120;221m[TextCNN Train]\u001B[38;2;97;175;239m::\u001B[38;2;198;120;221mevaluate\u001B[38;2;97;175;239m::\u001B[38;2;198;120;221mtrain.py\u001B[38;2;97;175;239m:\u001B[38;2;198;120;221m206\u001B[38;2;97;175;239m, \u001B[39m\u001B[49m\u001B[22m\u001B[23m\u001B[24m\u001B[25m\u001B[27m\u001B[28m\u001B[29mINFO\u001B[39m\u001B[49m\u001B[22m\u001B[23m\u001B[24m\u001B[25m\u001B[27m\u001B[28m\u001B[29m\u001B[38;2;97;175;239m - \u001B[39m\u001B[49m\u001B[22m\u001B[23m\u001B[24m\u001B[25m\u001B[27m\u001B[28m\u001B[29mRunning evaluation with args \u001B[35m{\u001B[39m\u001B[49m\u001B[0m#eval group: \u001B[34m4\u001B[39m\u001B[49m\u001B[0m, eval batch size: \u001B[34m32\u001B[39m\u001B[49m\u001B[0m\u001B[35m}\u001B[39m\u001B[49m\u001B[0m at epoch \u001B[34m0\u001B[39m\u001B[49m\u001B[0m\u001B[39m\u001B[49m\u001B[22m\u001B[23m\u001B[24m\u001B[25m\u001B[27m\u001B[28m\u001B[29m\n"
     ]
    },
    {
     "name": "stderr",
     "output_type": "stream",
     "text": [
      "Eval Epoch #1/4: 100%|██████████| 1/1 [00:00<00:00,  4.33ba/s]\n"
     ]
    },
    {
     "name": "stdout",
     "output_type": "stream",
     "text": [
      "\u001B[38;2;0;186;142m2022-03-17 20:45:48\u001B[38;2;97;175;239m| \u001B[39m\u001B[49m\u001B[22m\u001B[23m\u001B[24m\u001B[25m\u001B[27m\u001B[28m\u001B[29m\u001B[38;2;198;120;221m[TextCNN Train]\u001B[38;2;97;175;239m::\u001B[38;2;198;120;221mevaluate\u001B[38;2;97;175;239m::\u001B[38;2;198;120;221mtrain.py\u001B[38;2;97;175;239m:\u001B[38;2;198;120;221m283\u001B[38;2;97;175;239m, \u001B[39m\u001B[49m\u001B[22m\u001B[23m\u001B[24m\u001B[25m\u001B[27m\u001B[28m\u001B[29mINFO\u001B[39m\u001B[49m\u001B[22m\u001B[23m\u001B[24m\u001B[25m\u001B[27m\u001B[28m\u001B[29m\u001B[38;2;97;175;239m - \u001B[39m\u001B[49m\u001B[22m\u001B[23m\u001B[24m\u001B[25m\u001B[27m\u001B[28m\u001B[29m\u001B[35m{\u001B[39m\u001B[49m\u001B[0meval_loss: \u001B[34m 0.5585\u001B[39m\u001B[49m\u001B[0m, eval_binary_acc: \u001B[34m 90.48\u001B[39m\u001B[49m\u001B[0m, eval_cls_acc: \u001B[34m 50.00\u001B[39m\u001B[49m\u001B[0m\u001B[35m}\u001B[39m\u001B[49m\u001B[0m\u001B[39m\u001B[49m\u001B[22m\u001B[23m\u001B[24m\u001B[25m\u001B[27m\u001B[28m\u001B[29m\n"
     ]
    },
    {
     "name": "stderr",
     "output_type": "stream",
     "text": [
      "Train Epoch #2/4: 100%|██████████| 2/2 [00:00<00:00,  6.60it/s]\n"
     ]
    },
    {
     "name": "stdout",
     "output_type": "stream",
     "text": [
      "\u001B[38;2;0;186;142m2022-03-17 20:45:48\u001B[38;2;97;175;239m| \u001B[39m\u001B[49m\u001B[22m\u001B[23m\u001B[24m\u001B[25m\u001B[27m\u001B[28m\u001B[29m\u001B[38;2;198;120;221m[TextCNN Train]\u001B[38;2;97;175;239m::\u001B[38;2;198;120;221mtrain\u001B[38;2;97;175;239m::\u001B[38;2;198;120;221mtrain.py\u001B[38;2;97;175;239m:\u001B[38;2;198;120;221m187\u001B[38;2;97;175;239m, \u001B[39m\u001B[49m\u001B[22m\u001B[23m\u001B[24m\u001B[25m\u001B[27m\u001B[28m\u001B[29mINFO\u001B[39m\u001B[49m\u001B[22m\u001B[23m\u001B[24m\u001B[25m\u001B[27m\u001B[28m\u001B[29m\u001B[38;2;97;175;239m - \u001B[39m\u001B[49m\u001B[22m\u001B[23m\u001B[24m\u001B[25m\u001B[27m\u001B[28m\u001B[29mLast batch: \u001B[35m{\u001B[39m\u001B[49m\u001B[0mepoch: \u001B[34m1/4\u001B[39m\u001B[49m\u001B[0m, step: \u001B[34m4/8\u001B[39m\u001B[49m\u001B[0m, lr: \u001B[34m1.500e-04\u001B[39m\u001B[49m\u001B[0m, train_loss: \u001B[34m 0.7445\u001B[39m\u001B[49m\u001B[0m, train_binary_acc: \u001B[34m 62.50\u001B[39m\u001B[49m\u001B[0m\u001B[35m}\u001B[39m\u001B[49m\u001B[0m\u001B[39m\u001B[49m\u001B[22m\u001B[23m\u001B[24m\u001B[25m\u001B[27m\u001B[28m\u001B[29m\n",
      "\u001B[38;2;0;186;142m2022-03-17 20:45:48\u001B[38;2;97;175;239m| \u001B[39m\u001B[49m\u001B[22m\u001B[23m\u001B[24m\u001B[25m\u001B[27m\u001B[28m\u001B[29m\u001B[38;2;198;120;221m[TextCNN Train]\u001B[38;2;97;175;239m::\u001B[38;2;198;120;221mevaluate\u001B[38;2;97;175;239m::\u001B[38;2;198;120;221mtrain.py\u001B[38;2;97;175;239m:\u001B[38;2;198;120;221m206\u001B[38;2;97;175;239m, \u001B[39m\u001B[49m\u001B[22m\u001B[23m\u001B[24m\u001B[25m\u001B[27m\u001B[28m\u001B[29mINFO\u001B[39m\u001B[49m\u001B[22m\u001B[23m\u001B[24m\u001B[25m\u001B[27m\u001B[28m\u001B[29m\u001B[38;2;97;175;239m - \u001B[39m\u001B[49m\u001B[22m\u001B[23m\u001B[24m\u001B[25m\u001B[27m\u001B[28m\u001B[29mRunning evaluation with args \u001B[35m{\u001B[39m\u001B[49m\u001B[0m#eval group: \u001B[34m4\u001B[39m\u001B[49m\u001B[0m, eval batch size: \u001B[34m32\u001B[39m\u001B[49m\u001B[0m\u001B[35m}\u001B[39m\u001B[49m\u001B[0m at epoch \u001B[34m1\u001B[39m\u001B[49m\u001B[0m\u001B[39m\u001B[49m\u001B[22m\u001B[23m\u001B[24m\u001B[25m\u001B[27m\u001B[28m\u001B[29m\n"
     ]
    },
    {
     "name": "stderr",
     "output_type": "stream",
     "text": [
      "Eval Epoch #2/4: 100%|██████████| 1/1 [00:00<00:00,  4.16ba/s]\n"
     ]
    },
    {
     "name": "stdout",
     "output_type": "stream",
     "text": [
      "\u001B[38;2;0;186;142m2022-03-17 20:45:48\u001B[38;2;97;175;239m| \u001B[39m\u001B[49m\u001B[22m\u001B[23m\u001B[24m\u001B[25m\u001B[27m\u001B[28m\u001B[29m\u001B[38;2;198;120;221m[TextCNN Train]\u001B[38;2;97;175;239m::\u001B[38;2;198;120;221mevaluate\u001B[38;2;97;175;239m::\u001B[38;2;198;120;221mtrain.py\u001B[38;2;97;175;239m:\u001B[38;2;198;120;221m283\u001B[38;2;97;175;239m, \u001B[39m\u001B[49m\u001B[22m\u001B[23m\u001B[24m\u001B[25m\u001B[27m\u001B[28m\u001B[29mINFO\u001B[39m\u001B[49m\u001B[22m\u001B[23m\u001B[24m\u001B[25m\u001B[27m\u001B[28m\u001B[29m\u001B[38;2;97;175;239m - \u001B[39m\u001B[49m\u001B[22m\u001B[23m\u001B[24m\u001B[25m\u001B[27m\u001B[28m\u001B[29m\u001B[35m{\u001B[39m\u001B[49m\u001B[0meval_loss: \u001B[34m 0.5605\u001B[39m\u001B[49m\u001B[0m, eval_binary_acc: \u001B[34m 90.48\u001B[39m\u001B[49m\u001B[0m, eval_cls_acc: \u001B[34m 50.00\u001B[39m\u001B[49m\u001B[0m\u001B[35m}\u001B[39m\u001B[49m\u001B[0m\u001B[39m\u001B[49m\u001B[22m\u001B[23m\u001B[24m\u001B[25m\u001B[27m\u001B[28m\u001B[29m\n"
     ]
    },
    {
     "name": "stderr",
     "output_type": "stream",
     "text": [
      "Train Epoch #3/4: 100%|██████████| 2/2 [00:00<00:00,  6.52it/s]\n"
     ]
    },
    {
     "name": "stdout",
     "output_type": "stream",
     "text": [
      "\u001B[38;2;0;186;142m2022-03-17 20:45:49\u001B[38;2;97;175;239m| \u001B[39m\u001B[49m\u001B[22m\u001B[23m\u001B[24m\u001B[25m\u001B[27m\u001B[28m\u001B[29m\u001B[38;2;198;120;221m[TextCNN Train]\u001B[38;2;97;175;239m::\u001B[38;2;198;120;221mtrain\u001B[38;2;97;175;239m::\u001B[38;2;198;120;221mtrain.py\u001B[38;2;97;175;239m:\u001B[38;2;198;120;221m187\u001B[38;2;97;175;239m, \u001B[39m\u001B[49m\u001B[22m\u001B[23m\u001B[24m\u001B[25m\u001B[27m\u001B[28m\u001B[29mINFO\u001B[39m\u001B[49m\u001B[22m\u001B[23m\u001B[24m\u001B[25m\u001B[27m\u001B[28m\u001B[29m\u001B[38;2;97;175;239m - \u001B[39m\u001B[49m\u001B[22m\u001B[23m\u001B[24m\u001B[25m\u001B[27m\u001B[28m\u001B[29mLast batch: \u001B[35m{\u001B[39m\u001B[49m\u001B[0mepoch: \u001B[34m2/4\u001B[39m\u001B[49m\u001B[0m, step: \u001B[34m6/8\u001B[39m\u001B[49m\u001B[0m, lr: \u001B[34m4.390e-05\u001B[39m\u001B[49m\u001B[0m, train_loss: \u001B[34m 0.8126\u001B[39m\u001B[49m\u001B[0m, train_binary_acc: \u001B[34m 37.50\u001B[39m\u001B[49m\u001B[0m\u001B[35m}\u001B[39m\u001B[49m\u001B[0m\u001B[39m\u001B[49m\u001B[22m\u001B[23m\u001B[24m\u001B[25m\u001B[27m\u001B[28m\u001B[29m\n",
      "\u001B[38;2;0;186;142m2022-03-17 20:45:49\u001B[38;2;97;175;239m| \u001B[39m\u001B[49m\u001B[22m\u001B[23m\u001B[24m\u001B[25m\u001B[27m\u001B[28m\u001B[29m\u001B[38;2;198;120;221m[TextCNN Train]\u001B[38;2;97;175;239m::\u001B[38;2;198;120;221mevaluate\u001B[38;2;97;175;239m::\u001B[38;2;198;120;221mtrain.py\u001B[38;2;97;175;239m:\u001B[38;2;198;120;221m206\u001B[38;2;97;175;239m, \u001B[39m\u001B[49m\u001B[22m\u001B[23m\u001B[24m\u001B[25m\u001B[27m\u001B[28m\u001B[29mINFO\u001B[39m\u001B[49m\u001B[22m\u001B[23m\u001B[24m\u001B[25m\u001B[27m\u001B[28m\u001B[29m\u001B[38;2;97;175;239m - \u001B[39m\u001B[49m\u001B[22m\u001B[23m\u001B[24m\u001B[25m\u001B[27m\u001B[28m\u001B[29mRunning evaluation with args \u001B[35m{\u001B[39m\u001B[49m\u001B[0m#eval group: \u001B[34m4\u001B[39m\u001B[49m\u001B[0m, eval batch size: \u001B[34m32\u001B[39m\u001B[49m\u001B[0m\u001B[35m}\u001B[39m\u001B[49m\u001B[0m at epoch \u001B[34m2\u001B[39m\u001B[49m\u001B[0m\u001B[39m\u001B[49m\u001B[22m\u001B[23m\u001B[24m\u001B[25m\u001B[27m\u001B[28m\u001B[29m\n"
     ]
    },
    {
     "name": "stderr",
     "output_type": "stream",
     "text": [
      "Eval Epoch #3/4: 100%|██████████| 1/1 [00:00<00:00,  4.20ba/s]\n"
     ]
    },
    {
     "name": "stdout",
     "output_type": "stream",
     "text": [
      "\u001B[38;2;0;186;142m2022-03-17 20:45:49\u001B[38;2;97;175;239m| \u001B[39m\u001B[49m\u001B[22m\u001B[23m\u001B[24m\u001B[25m\u001B[27m\u001B[28m\u001B[29m\u001B[38;2;198;120;221m[TextCNN Train]\u001B[38;2;97;175;239m::\u001B[38;2;198;120;221mevaluate\u001B[38;2;97;175;239m::\u001B[38;2;198;120;221mtrain.py\u001B[38;2;97;175;239m:\u001B[38;2;198;120;221m283\u001B[38;2;97;175;239m, \u001B[39m\u001B[49m\u001B[22m\u001B[23m\u001B[24m\u001B[25m\u001B[27m\u001B[28m\u001B[29mINFO\u001B[39m\u001B[49m\u001B[22m\u001B[23m\u001B[24m\u001B[25m\u001B[27m\u001B[28m\u001B[29m\u001B[38;2;97;175;239m - \u001B[39m\u001B[49m\u001B[22m\u001B[23m\u001B[24m\u001B[25m\u001B[27m\u001B[28m\u001B[29m\u001B[35m{\u001B[39m\u001B[49m\u001B[0meval_loss: \u001B[34m 0.6474\u001B[39m\u001B[49m\u001B[0m, eval_binary_acc: \u001B[34m 76.19\u001B[39m\u001B[49m\u001B[0m, eval_cls_acc: \u001B[34m 25.00\u001B[39m\u001B[49m\u001B[0m\u001B[35m}\u001B[39m\u001B[49m\u001B[0m\u001B[39m\u001B[49m\u001B[22m\u001B[23m\u001B[24m\u001B[25m\u001B[27m\u001B[28m\u001B[29m\n"
     ]
    },
    {
     "name": "stderr",
     "output_type": "stream",
     "text": [
      "Train Epoch #4/4: 100%|██████████| 2/2 [00:00<00:00,  6.62it/s]\n"
     ]
    },
    {
     "name": "stdout",
     "output_type": "stream",
     "text": [
      "\u001B[38;2;0;186;142m2022-03-17 20:45:49\u001B[38;2;97;175;239m| \u001B[39m\u001B[49m\u001B[22m\u001B[23m\u001B[24m\u001B[25m\u001B[27m\u001B[28m\u001B[29m\u001B[38;2;198;120;221m[TextCNN Train]\u001B[38;2;97;175;239m::\u001B[38;2;198;120;221mtrain\u001B[38;2;97;175;239m::\u001B[38;2;198;120;221mtrain.py\u001B[38;2;97;175;239m:\u001B[38;2;198;120;221m187\u001B[38;2;97;175;239m, \u001B[39m\u001B[49m\u001B[22m\u001B[23m\u001B[24m\u001B[25m\u001B[27m\u001B[28m\u001B[29mINFO\u001B[39m\u001B[49m\u001B[22m\u001B[23m\u001B[24m\u001B[25m\u001B[27m\u001B[28m\u001B[29m\u001B[38;2;97;175;239m - \u001B[39m\u001B[49m\u001B[22m\u001B[23m\u001B[24m\u001B[25m\u001B[27m\u001B[28m\u001B[29mLast batch: \u001B[35m{\u001B[39m\u001B[49m\u001B[0mepoch: \u001B[34m3/4\u001B[39m\u001B[49m\u001B[0m, step: \u001B[34m8/8\u001B[39m\u001B[49m\u001B[0m, lr: \u001B[34m0.000e+00\u001B[39m\u001B[49m\u001B[0m, train_loss: \u001B[34m 0.6924\u001B[39m\u001B[49m\u001B[0m, train_binary_acc: \u001B[34m 62.50\u001B[39m\u001B[49m\u001B[0m\u001B[35m}\u001B[39m\u001B[49m\u001B[0m\u001B[39m\u001B[49m\u001B[22m\u001B[23m\u001B[24m\u001B[25m\u001B[27m\u001B[28m\u001B[29m\n",
      "\u001B[38;2;0;186;142m2022-03-17 20:45:49\u001B[38;2;97;175;239m| \u001B[39m\u001B[49m\u001B[22m\u001B[23m\u001B[24m\u001B[25m\u001B[27m\u001B[28m\u001B[29m\u001B[38;2;198;120;221m[TextCNN Train]\u001B[38;2;97;175;239m::\u001B[38;2;198;120;221mevaluate\u001B[38;2;97;175;239m::\u001B[38;2;198;120;221mtrain.py\u001B[38;2;97;175;239m:\u001B[38;2;198;120;221m206\u001B[38;2;97;175;239m, \u001B[39m\u001B[49m\u001B[22m\u001B[23m\u001B[24m\u001B[25m\u001B[27m\u001B[28m\u001B[29mINFO\u001B[39m\u001B[49m\u001B[22m\u001B[23m\u001B[24m\u001B[25m\u001B[27m\u001B[28m\u001B[29m\u001B[38;2;97;175;239m - \u001B[39m\u001B[49m\u001B[22m\u001B[23m\u001B[24m\u001B[25m\u001B[27m\u001B[28m\u001B[29mRunning evaluation with args \u001B[35m{\u001B[39m\u001B[49m\u001B[0m#eval group: \u001B[34m4\u001B[39m\u001B[49m\u001B[0m, eval batch size: \u001B[34m32\u001B[39m\u001B[49m\u001B[0m\u001B[35m}\u001B[39m\u001B[49m\u001B[0m at epoch \u001B[34m3\u001B[39m\u001B[49m\u001B[0m\u001B[39m\u001B[49m\u001B[22m\u001B[23m\u001B[24m\u001B[25m\u001B[27m\u001B[28m\u001B[29m\n"
     ]
    },
    {
     "name": "stderr",
     "output_type": "stream",
     "text": [
      "Eval Epoch #4/4: 100%|██████████| 1/1 [00:00<00:00,  4.20ba/s]\n"
     ]
    },
    {
     "name": "stdout",
     "output_type": "stream",
     "text": [
      "\u001B[38;2;0;186;142m2022-03-17 20:45:50\u001B[38;2;97;175;239m| \u001B[39m\u001B[49m\u001B[22m\u001B[23m\u001B[24m\u001B[25m\u001B[27m\u001B[28m\u001B[29m\u001B[38;2;198;120;221m[TextCNN Train]\u001B[38;2;97;175;239m::\u001B[38;2;198;120;221mevaluate\u001B[38;2;97;175;239m::\u001B[38;2;198;120;221mtrain.py\u001B[38;2;97;175;239m:\u001B[38;2;198;120;221m283\u001B[38;2;97;175;239m, \u001B[39m\u001B[49m\u001B[22m\u001B[23m\u001B[24m\u001B[25m\u001B[27m\u001B[28m\u001B[29mINFO\u001B[39m\u001B[49m\u001B[22m\u001B[23m\u001B[24m\u001B[25m\u001B[27m\u001B[28m\u001B[29m\u001B[38;2;97;175;239m - \u001B[39m\u001B[49m\u001B[22m\u001B[23m\u001B[24m\u001B[25m\u001B[27m\u001B[28m\u001B[29m\u001B[35m{\u001B[39m\u001B[49m\u001B[0meval_loss: \u001B[34m 0.6740\u001B[39m\u001B[49m\u001B[0m, eval_binary_acc: \u001B[34m 66.67\u001B[39m\u001B[49m\u001B[0m, eval_cls_acc: \u001B[34m 10.00\u001B[39m\u001B[49m\u001B[0m\u001B[35m}\u001B[39m\u001B[49m\u001B[0m\u001B[39m\u001B[49m\u001B[22m\u001B[23m\u001B[24m\u001B[25m\u001B[27m\u001B[28m\u001B[29m\n"
     ]
    }
   ],
   "source": [
    "trainer.train()\n",
    "\n"
   ],
   "metadata": {
    "collapsed": false,
    "pycharm": {
     "name": "#%%\n"
    }
   }
  },
  {
   "cell_type": "markdown",
   "source": [
    "## Evaluate\n",
    "\n"
   ],
   "metadata": {
    "collapsed": false
   }
  },
  {
   "cell_type": "code",
   "execution_count": 6,
   "outputs": [
    {
     "name": "stdout",
     "output_type": "stream",
     "text": [
      "\u001B[38;2;0;186;142m2022-03-17 20:45:50\u001B[38;2;97;175;239m| \u001B[39m\u001B[49m\u001B[22m\u001B[23m\u001B[24m\u001B[25m\u001B[27m\u001B[28m\u001B[29m\u001B[38;2;198;120;221m[TextCNN Eval]\u001B[38;2;97;175;239m::\u001B[38;2;198;120;221mevaluate\u001B[38;2;97;175;239m::\u001B[38;2;198;120;221mtrain.py\u001B[38;2;97;175;239m:\u001B[38;2;198;120;221m213\u001B[38;2;97;175;239m, \u001B[39m\u001B[49m\u001B[22m\u001B[23m\u001B[24m\u001B[25m\u001B[27m\u001B[28m\u001B[29mINFO\u001B[39m\u001B[49m\u001B[22m\u001B[23m\u001B[24m\u001B[25m\u001B[27m\u001B[28m\u001B[29m\u001B[38;2;97;175;239m - \u001B[39m\u001B[49m\u001B[22m\u001B[23m\u001B[24m\u001B[25m\u001B[27m\u001B[28m\u001B[29mLaunched evaluation on model \u001B[35m{\u001B[39m\u001B[49m\u001B[0mmodel name: \u001B[34mTextCnn\u001B[39m\u001B[49m\u001B[0m, pretrained embedding shape: \u001B[34m(400000, 300)\u001B[39m\u001B[49m\u001B[0m, trainable embedding shape: \u001B[34m(5, 300)\u001B[39m\u001B[49m\u001B[0m, max sentence length: \u001B[34m64\u001B[39m\u001B[49m\u001B[0m, max question length: \u001B[34m24\u001B[39m\u001B[49m\u001B[0m, conv module meta: \u001B[34m{name=original, kernel-sp=(3, 4, 5) x 64, pool=avg}\u001B[39m\u001B[49m\u001B[0m, #class: \u001B[34m2\u001B[39m\u001B[49m\u001B[0m, loss weight: \u001B[34mNone\u001B[39m\u001B[49m\u001B[0m\u001B[35m}\u001B[39m\u001B[49m\u001B[0m with args \u001B[35m{\u001B[39m\u001B[49m\u001B[0m#eval group: \u001B[34m4\u001B[39m\u001B[49m\u001B[0m, eval batch size: \u001B[34m32\u001B[39m\u001B[49m\u001B[0m\u001B[35m}\u001B[39m\u001B[49m\u001B[0m\u001B[39m\u001B[49m\u001B[22m\u001B[23m\u001B[24m\u001B[25m\u001B[27m\u001B[28m\u001B[29m\n"
     ]
    },
    {
     "name": "stderr",
     "output_type": "stream",
     "text": [
      "100%|██████████| 1/1 [00:00<00:00,  4.42ba/s]\n"
     ]
    },
    {
     "name": "stdout",
     "output_type": "stream",
     "text": [
      "\u001B[38;2;0;186;142m2022-03-17 20:45:50\u001B[38;2;97;175;239m| \u001B[39m\u001B[49m\u001B[22m\u001B[23m\u001B[24m\u001B[25m\u001B[27m\u001B[28m\u001B[29m\u001B[38;2;198;120;221m[TextCNN Eval]\u001B[38;2;97;175;239m::\u001B[38;2;198;120;221mevaluate\u001B[38;2;97;175;239m::\u001B[38;2;198;120;221mtrain.py\u001B[38;2;97;175;239m:\u001B[38;2;198;120;221m283\u001B[38;2;97;175;239m, \u001B[39m\u001B[49m\u001B[22m\u001B[23m\u001B[24m\u001B[25m\u001B[27m\u001B[28m\u001B[29mINFO\u001B[39m\u001B[49m\u001B[22m\u001B[23m\u001B[24m\u001B[25m\u001B[27m\u001B[28m\u001B[29m\u001B[38;2;97;175;239m - \u001B[39m\u001B[49m\u001B[22m\u001B[23m\u001B[24m\u001B[25m\u001B[27m\u001B[28m\u001B[29m\u001B[35m{\u001B[39m\u001B[49m\u001B[0meval_loss: \u001B[34m 0.6740\u001B[39m\u001B[49m\u001B[0m, eval_binary_acc: \u001B[34m 66.67\u001B[39m\u001B[49m\u001B[0m, eval_cls_acc: \u001B[34m 10.00\u001B[39m\u001B[49m\u001B[0m\u001B[35m}\u001B[39m\u001B[49m\u001B[0m\u001B[39m\u001B[49m\u001B[22m\u001B[23m\u001B[24m\u001B[25m\u001B[27m\u001B[28m\u001B[29m\n"
     ]
    },
    {
     "data": {
      "text/plain": "{'eval_loss': ' 0.6740', 'eval_binary_acc': ' 66.67', 'eval_cls_acc': ' 10.00'}"
     },
     "execution_count": 6,
     "metadata": {},
     "output_type": "execute_result"
    }
   ],
   "source": [
    "# TODO\n",
    "\n"
   ],
   "metadata": {
    "collapsed": false,
    "pycharm": {
     "name": "#%%\n"
    }
   }
  }
 ],
 "metadata": {
  "kernelspec": {
   "display_name": "Python 3",
   "language": "python",
   "name": "python3"
  },
  "language_info": {
   "codemirror_mode": {
    "name": "ipython",
    "version": 2
   },
   "file_extension": ".py",
   "mimetype": "text/x-python",
   "name": "python",
   "nbconvert_exporter": "python",
   "pygments_lexer": "ipython2",
   "version": "2.7.6"
  }
 },
 "nbformat": 4,
 "nbformat_minor": 0
}